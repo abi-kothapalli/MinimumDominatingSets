{
 "cells": [
  {
   "cell_type": "code",
   "execution_count": null,
   "id": "57485af9",
   "metadata": {},
   "outputs": [],
   "source": [
    "import networkx as nx\n",
    "from sage.graphs.graph_generators_pyx import RandomGNP\n",
    "import pulp"
   ]
  },
  {
   "cell_type": "code",
   "execution_count": null,
   "id": "246185f0",
   "metadata": {},
   "outputs": [],
   "source": [
    "# generator can either be erdos_renyi_graph or RandomGNP\n",
    "def generateGraph(n, density, generator = nx.erdos_renyi_graph):\n",
    "    g = generator(n, density)\n",
    "    \n",
    "    if type(g) is not sage.graphs.graph.Graph:\n",
    "        g = Graph(g)\n",
    "        \n",
    "    return g\n",
    "\n",
    "\n",
    "def computeMDS(graph):\n",
    "    dominating_set = graph.dominating_set()\n",
    "    return dominating_set\n",
    "\n",
    "\n",
    "def verifyMDS(graph, dominating_set):\n",
    "    nxMDS = nx.algorithms.dominating.is_dominating_set(graph.networkx_graph(), dominating_set)\n",
    "    sageMDS = g.is_dominating(dominating_set)\n",
    "    return nxMDS and sageMDS"
   ]
  },
  {
   "cell_type": "code",
   "execution_count": null,
   "id": "835c9c0b",
   "metadata": {},
   "outputs": [],
   "source": [
    "def generateMDSSolutions(graph, num_solutions = 3, show_messages=True):\n",
    "    g = graph.networkx_graph()\n",
    "    \n",
    "    prob = pulp.LpProblem(\"Minimum Dominating Set\", pulp.LpMinimize)\n",
    "    y = pulp.LpVariable.dicts(\"y\", g.nodes(), cat=pulp.LpBinary)\n",
    "\n",
    "    prob += pulp.lpSum(y)\n",
    "    for v in g.nodes():\n",
    "        prob += (y[v] + pulp.lpSum([y[u] for u in g.neighbors(v)]) >= 1)\n",
    "        \n",
    "    solutions = []\n",
    "\n",
    "    for i in range(num_solutions):\n",
    "        prob.solve(pulp.apis.PULP_CBC_CMD(msg=show_messages))\n",
    "        \n",
    "        selected_vars = []\n",
    "        for var in y:\n",
    "             if y[var].value() != 0:\n",
    "                selected_vars.append(var)\n",
    "        \n",
    "        solutions.append(selected_vars)\n",
    "        \n",
    "        # Add a new constraint to prevent same solution from being found again\n",
    "        prob += (pulp.lpSum([y[var] for var in selected_vars]) <= len(selected_vars) - 1)\n",
    "        \n",
    "        if pulp.LpStatus[prob.status] != 'Optimal':\n",
    "            break\n",
    "            \n",
    "    return solutions"
   ]
  },
  {
   "cell_type": "code",
   "execution_count": null,
   "id": "8851d29f",
   "metadata": {},
   "outputs": [],
   "source": [
    "graph = generateGraph(100, 0.3)\n",
    "solutions = generateMDSSolutions(graph, num_solutions = 5)\n"
   ]
  },
  {
   "cell_type": "code",
   "execution_count": null,
   "id": "fac0ad6e",
   "metadata": {},
   "outputs": [],
   "source": [
    "print(solutions)"
   ]
  },
  {
   "cell_type": "code",
   "execution_count": null,
   "id": "18404941",
   "metadata": {},
   "outputs": [],
   "source": [
    "print(computeMDS(graph))"
   ]
  },
  {
   "cell_type": "code",
   "execution_count": null,
   "id": "d9c4f838",
   "metadata": {},
   "outputs": [],
   "source": []
  }
 ],
 "metadata": {
  "kernelspec": {
   "display_name": "SageMath 9.5",
   "language": "sage",
   "name": "sagemath-9.5"
  },
  "language_info": {
   "codemirror_mode": {
    "name": "ipython",
    "version": 3
   },
   "file_extension": ".py",
   "mimetype": "text/x-python",
   "name": "python",
   "nbconvert_exporter": "python",
   "pygments_lexer": "ipython3"
  }
 },
 "nbformat": 4,
 "nbformat_minor": 5
}
