{
 "cells": [
  {
   "cell_type": "code",
   "execution_count": null,
   "id": "855d270a",
   "metadata": {},
   "outputs": [],
   "source": [
    "import numpy as np\n",
    "import networkx as nx\n",
    "import pulp"
   ]
  },
  {
   "cell_type": "code",
   "execution_count": null,
   "id": "370d43b3",
   "metadata": {},
   "outputs": [],
   "source": [
    "def generateGraph(n, density, generator = nx.erdos_renyi_graph):\n",
    "    g = generator(n, density)\n",
    "    return g\n",
    "\n",
    "def getAdjMatrix(graph):\n",
    "    return nx.adjacency_matrix(graph).todense()\n",
    "\n",
    "def verifyMDS(graph, dominating_set):\n",
    "    return nx.algorithms.dominating.is_dominating_set(graph, dominating_set)"
   ]
  },
  {
   "cell_type": "code",
   "execution_count": null,
   "id": "97a17ad2",
   "metadata": {},
   "outputs": [],
   "source": [
    "def generateGreedySolution(graph):\n",
    "    return nx.algorithms.dominating.dominating_set(graph)\n",
    "\n",
    "def generateExactSolutions(graph, num_solutions = 3, show_messages=True):\n",
    "    prob = pulp.LpProblem(\"Minimum Dominating Set\", pulp.LpMinimize)\n",
    "    y = pulp.LpVariable.dicts(\"y\", graph.nodes(), cat=pulp.LpBinary)\n",
    "\n",
    "    prob += pulp.lpSum(y)\n",
    "    for v in graph.nodes():\n",
    "        prob += (y[v] + pulp.lpSum([y[u] for u in graph.neighbors(v)]) >= 1)\n",
    "        \n",
    "    solutions = []\n",
    "\n",
    "    for i in range(num_solutions):\n",
    "        prob.solve(pulp.apis.PULP_CBC_CMD(msg=show_messages))\n",
    "        \n",
    "        selected_vars = []\n",
    "        for var in y:\n",
    "             if y[var].value() != 0:\n",
    "                selected_vars.append(var)\n",
    "        \n",
    "        solutions.append(selected_vars)\n",
    "        \n",
    "        # Add a new constraint to prevent same solution from being found again\n",
    "        prob += (pulp.lpSum([y[var] for var in selected_vars]) <= len(selected_vars) - 1)\n",
    "        \n",
    "        if pulp.LpStatus[prob.status] != 'Optimal':\n",
    "            break\n",
    "            \n",
    "    return solutions"
   ]
  },
  {
   "cell_type": "code",
   "execution_count": null,
   "id": "a2395eda",
   "metadata": {},
   "outputs": [],
   "source": [
    "graph = generateGraph(200, 0.5)\n",
    "greedy = generateGreedySolution(graph)\n",
    "solutions = generateExactSolutions(graph, num_solutions = 3)"
   ]
  },
  {
   "cell_type": "code",
   "execution_count": null,
   "id": "7fe1c640",
   "metadata": {},
   "outputs": [],
   "source": [
    "def getEdgeProb(nodes, avg_degree):\n",
    "    return avg_degree/(nodes - 1)\n",
    "\n",
    "def getAverageDegrees(minimum = 5, maximum = 15, step = 1):\n",
    "    return np.arange(minimum, maximum + 1, step)\n",
    "\n",
    "def getGraphSizes(minimum = 200, maximum = 500, step = 5):\n",
    "    return np.arange(minimum, maximum + 1, step)\n",
    "\n",
    "# len(getGraphSizes(500, 1000, 10)) for large range\n",
    "\n",
    "test = nx.erdos_renyi_graph(100, 10/99)\n",
    "degrees = [degree[1] for degree in test.degree()]\n",
    "print(sum(degrees)/len(degrees))"
   ]
  },
  {
   "cell_type": "code",
   "execution_count": null,
   "id": "eb60d493",
   "metadata": {},
   "outputs": [],
   "source": [
    "import scipy.io as sio\n",
    "\n",
    "\n",
    "graph_data = {\n",
    "    'adj': getAdjMatrix(graph),\n",
    "    'greedy': greedy,\n",
    "    'exact': solutions\n",
    "}"
   ]
  },
  {
   "cell_type": "code",
   "execution_count": null,
   "id": "dc60c887",
   "metadata": {},
   "outputs": [],
   "source": [
    "degrees = [item[1] for item in list(graph.degree())]\n",
    "degrees"
   ]
  },
  {
   "cell_type": "code",
   "execution_count": null,
   "id": "342133c9",
   "metadata": {},
   "outputs": [],
   "source": [
    "greedy"
   ]
  },
  {
   "cell_type": "code",
   "execution_count": null,
   "id": "bba0adda",
   "metadata": {},
   "outputs": [],
   "source": [
    "solutions"
   ]
  },
  {
   "cell_type": "code",
   "execution_count": null,
   "id": "0a91ab32",
   "metadata": {},
   "outputs": [],
   "source": [
    "print(f\"{1:05}\")"
   ]
  },
  {
   "cell_type": "code",
   "execution_count": null,
   "id": "c2475840",
   "metadata": {},
   "outputs": [],
   "source": [
    "nx.adjacency_matrix(graph).todense().tolist()"
   ]
  },
  {
   "cell_type": "code",
   "execution_count": null,
   "id": "b1c8e9d8",
   "metadata": {},
   "outputs": [],
   "source": []
  }
 ],
 "metadata": {
  "kernelspec": {
   "display_name": "Python 3 (ipykernel)",
   "language": "python",
   "name": "python3"
  },
  "language_info": {
   "codemirror_mode": {
    "name": "ipython",
    "version": 3
   },
   "file_extension": ".py",
   "mimetype": "text/x-python",
   "name": "python",
   "nbconvert_exporter": "python",
   "pygments_lexer": "ipython3"
  }
 },
 "nbformat": 4,
 "nbformat_minor": 5
}
