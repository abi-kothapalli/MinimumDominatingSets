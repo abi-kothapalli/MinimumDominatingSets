{
 "cells": [
  {
   "cell_type": "code",
   "execution_count": null,
   "id": "5da2aeff",
   "metadata": {},
   "outputs": [],
   "source": [
    "import numpy as np\n",
    "import networkx as nx\n",
    "import pulp"
   ]
  },
  {
   "cell_type": "code",
   "execution_count": null,
   "id": "b4070f4f",
   "metadata": {},
   "outputs": [],
   "source": [
    "def generateGraph(n, density, generator = nx.erdos_renyi_graph):\n",
    "    g = generator(n, density)\n",
    "    return g\n",
    "\n",
    "def getAdjMatrix(graph):\n",
    "    return nx.adjacency_matrix(graph).todense()\n",
    "\n",
    "def verifyMDS(graph, dominating_set):\n",
    "    return nx.algorithms.dominating.is_dominating_set(graph, dominating_set)"
   ]
  },
  {
   "cell_type": "code",
   "execution_count": null,
   "id": "d5d3915e",
   "metadata": {},
   "outputs": [],
   "source": [
    "def generateGreedySolution(graph):\n",
    "    return nx.algorithms.dominating.dominating_set(graph)\n",
    "\n",
    "def generateExactSolutions(graph, num_solutions = 3, show_messages=True):\n",
    "    prob = pulp.LpProblem(\"Minimum Dominating Set\", pulp.LpMinimize)\n",
    "    y = pulp.LpVariable.dicts(\"y\", graph.nodes(), cat=pulp.LpBinary)\n",
    "\n",
    "    prob += pulp.lpSum(y)\n",
    "    for v in graph.nodes():\n",
    "        prob += (y[v] + pulp.lpSum([y[u] for u in graph.neighbors(v)]) >= 1)\n",
    "        \n",
    "    solutions = []\n",
    "\n",
    "    for i in range(num_solutions):\n",
    "        prob.solve(pulp.apis.PULP_CBC_CMD(msg=show_messages))\n",
    "        \n",
    "        selected_vars = []\n",
    "        for var in y:\n",
    "             if y[var].value() != 0:\n",
    "                selected_vars.append(var)\n",
    "        \n",
    "        solutions.append(selected_vars)\n",
    "        \n",
    "        # Add a new constraint to prevent same solution from being found again\n",
    "        prob += (pulp.lpSum([y[var] for var in selected_vars]) <= len(selected_vars) - 1)\n",
    "        \n",
    "        if pulp.LpStatus[prob.status] != 'Optimal':\n",
    "            break\n",
    "            \n",
    "    return solutions"
   ]
  },
  {
   "cell_type": "code",
   "execution_count": null,
   "id": "b0f8751f",
   "metadata": {},
   "outputs": [],
   "source": [
    "graph = generateGraph(200, 0.5)\n",
    "greedy = generateGreedySolution(graph)\n",
    "solutions = generateExactSolutions(graph, num_solutions = 3)"
   ]
  },
  {
   "cell_type": "code",
   "execution_count": null,
   "id": "58072155",
   "metadata": {},
   "outputs": [],
   "source": [
    "def getEdgeProb(nodes, avg_degree):\n",
    "    return avg_degree/(nodes - 1)\n",
    "\n",
    "def getAverageDegrees(minimum = 5, maximum = 15, step = 1):\n",
    "    return np.arange(minimum, maximum + 1, step)\n",
    "\n",
    "def getGraphSizes(minimum = 200, maximum = 500, step = 5):\n",
    "    return np.arange(minimum, maximum + 1, step)\n",
    "\n",
    "# len(getGraphSizes(500, 1000, 10)) for large range\n",
    "\n",
    "test = nx.erdos_renyi_graph(100, 10/99)\n",
    "degrees = [degree[1] for degree in test.degree()]\n",
    "print(sum(degrees)/len(degrees))"
   ]
  },
  {
   "cell_type": "code",
   "execution_count": null,
   "id": "10554e0a",
   "metadata": {},
   "outputs": [],
   "source": [
    "print(greedy)\n",
    "print(solutions)"
   ]
  },
  {
   "cell_type": "code",
   "execution_count": null,
   "id": "6ca531cf",
   "metadata": {},
   "outputs": [],
   "source": [
    "verifyMDS(graph, greedy)"
   ]
  },
  {
   "cell_type": "code",
   "execution_count": null,
   "id": "6a9a7827",
   "metadata": {},
   "outputs": [],
   "source": [
    "graph = generateGraph(1000, 0.05)\n",
    "greedy = generateGreedySolution(graph)"
   ]
  },
  {
   "cell_type": "code",
   "execution_count": null,
   "id": "0549502d",
   "metadata": {},
   "outputs": [],
   "source": [
    "print(greedy)"
   ]
  },
  {
   "cell_type": "code",
   "execution_count": null,
   "id": "ace18e02",
   "metadata": {},
   "outputs": [],
   "source": [
    "print(len(graph.nodes()))"
   ]
  },
  {
   "cell_type": "code",
   "execution_count": null,
   "id": "5d09cf04",
   "metadata": {},
   "outputs": [],
   "source": [
    "verifyMDS(graph, greedy)"
   ]
  },
  {
   "cell_type": "code",
   "execution_count": null,
   "id": "9a1e8993",
   "metadata": {},
   "outputs": [],
   "source": [
    "getAdjMatrix(graph).todense()"
   ]
  },
  {
   "cell_type": "code",
   "execution_count": null,
   "id": "2ae7ab6e",
   "metadata": {},
   "outputs": [],
   "source": []
  }
 ],
 "metadata": {
  "kernelspec": {
   "display_name": "Python 3 (ipykernel)",
   "language": "python",
   "name": "python3"
  },
  "language_info": {
   "codemirror_mode": {
    "name": "ipython",
    "version": 3
   },
   "file_extension": ".py",
   "mimetype": "text/x-python",
   "name": "python",
   "nbconvert_exporter": "python",
   "pygments_lexer": "ipython3"
  }
 },
 "nbformat": 4,
 "nbformat_minor": 5
}
